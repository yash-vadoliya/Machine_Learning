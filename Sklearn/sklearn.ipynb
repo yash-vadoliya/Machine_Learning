{
 "cells": [
  {
   "cell_type": "code",
   "execution_count": 2,
   "id": "2665b15f-f0b9-4e7d-af07-4d20e8889429",
   "metadata": {},
   "outputs": [
    {
     "ename": "ModuleNotFoundError",
     "evalue": "No module named 'matplotlib'",
     "output_type": "error",
     "traceback": [
      "\u001b[1;31m---------------------------------------------------------------------------\u001b[0m",
      "\u001b[1;31mModuleNotFoundError\u001b[0m                       Traceback (most recent call last)",
      "Cell \u001b[1;32mIn[2], line 5\u001b[0m\n\u001b[0;32m      3\u001b[0m \u001b[38;5;28;01mimport\u001b[39;00m \u001b[38;5;21;01mpandas\u001b[39;00m \u001b[38;5;28;01mas\u001b[39;00m \u001b[38;5;21;01mpd\u001b[39;00m\n\u001b[0;32m      4\u001b[0m \u001b[38;5;28;01mimport\u001b[39;00m \u001b[38;5;21;01mnumpy\u001b[39;00m \u001b[38;5;28;01mas\u001b[39;00m \u001b[38;5;21;01mnp\u001b[39;00m\n\u001b[1;32m----> 5\u001b[0m \u001b[38;5;28;01mimport\u001b[39;00m \u001b[38;5;21;01mmatplotlib\u001b[39;00m\u001b[38;5;21;01m.\u001b[39;00m\u001b[38;5;21;01mpyplot\u001b[39;00m \u001b[38;5;28;01mas\u001b[39;00m \u001b[38;5;21;01mplt\u001b[39;00m\n\u001b[0;32m      7\u001b[0m \u001b[38;5;66;03m# load the database\u001b[39;00m\n\u001b[0;32m      8\u001b[0m data \u001b[38;5;241m=\u001b[39m pd\u001b[38;5;241m.\u001b[39mread_csv(\u001b[38;5;124m\"\u001b[39m\u001b[38;5;124minsurane.csv\u001b[39m\u001b[38;5;124m\"\u001b[39m)\n",
      "\u001b[1;31mModuleNotFoundError\u001b[0m: No module named 'matplotlib'"
     ]
    }
   ],
   "source": [
    "from sklearn import linear_model,model_selection,preprocessing\n",
    "from sklearn.metrics import mean_absolute_error,mean_squared_error\n",
    "import pandas as pd\n",
    "import numpy as np\n",
    "import matplotlib.pyplot as plt\n",
    "\n",
    "# load the database\n",
    "data = pd.read_csv(\"insurane.csv\")\n",
    "\n",
    "# dependent and independent  variable\n",
    "x = np.array(data.sex).reshape(-1,1)\n",
    "y = np.array(data.expenses).reshape(-1,1)\n",
    "\n",
    "# Preprocessing : local Endoding\n",
    "encode = preprocessing.LabelEncoder()\n",
    "x = np.array(encode.fit_transform(x)).reshape(-1,1)\n",
    "\n",
    "# Train test Split\n",
    "xtarin,xtest,ytrain,ytest = model_selection.train_test_split(x,y,test_size=0.3)\n",
    "\n",
    "#  Load the Model\n",
    "lr_model = liner_model.LinearRegression()\n",
    "\n",
    "# train the model\n",
    "lr_model.fit(xtrain,ytrain)\n",
    "\n",
    "ytest_predited = lr_model.predict(xtest)\n",
    "\n",
    "print(\"Mean Acsolute Error : \",mean_absolute_error(ytest,ytest_predited))\n",
    "print(\"Mean Squared Error : \",mean_squared_error(ytest,ytest_predited))"
   ]
  },
  {
   "cell_type": "code",
   "execution_count": 7,
   "id": "fc614abc-859f-41e9-8c2a-c9b5570f3802",
   "metadata": {},
   "outputs": [],
   "source": []
  },
  {
   "cell_type": "code",
   "execution_count": null,
   "id": "26a14581-38de-43d9-9cb7-259063818797",
   "metadata": {},
   "outputs": [],
   "source": [
    "from sklearn import linear_model,model_selection,preprocessing\n",
    "from sklearn.tree import mean_absolute_error,mean_squared_error\n",
    "import pandas as pd\n",
    "import numpy as np\n",
    "\n",
    "# load the database\n",
    "data = pd.read_csv(\"Salary.csv\")\n",
    "\n",
    "# dependent and independent  variable\n",
    "x = np.array(data.YearExperience).reshape(-1,1)\n",
    "y = np.array(data.Salary).reshape(-1,1)\n",
    "\n",
    "\n",
    "# Train test Split\n",
    "xtarin,xtest,ytrain,ytest = model_selection.train_test_split(x,y,test_size=0.3)\n",
    "\n",
    "regration = DecisionreeRegressor()\n",
    "\n",
    "regressor.fir(xtrain,ytrain)\n",
    "\n",
    "ytest_predited = lr_model.predict(xtest)\n",
    "\n",
    "print(ytest)\n",
    "print(ytest_predicted)"
   ]
  },
  {
   "cell_type": "code",
   "execution_count": null,
   "id": "582d2598-cfb4-4d0e-99f7-0ffb6cb6af35",
   "metadata": {},
   "outputs": [],
   "source": []
  }
 ],
 "metadata": {
  "kernelspec": {
   "display_name": "Python 3 (ipykernel)",
   "language": "python",
   "name": "python3"
  },
  "language_info": {
   "codemirror_mode": {
    "name": "ipython",
    "version": 3
   },
   "file_extension": ".py",
   "mimetype": "text/x-python",
   "name": "python",
   "nbconvert_exporter": "python",
   "pygments_lexer": "ipython3",
   "version": "3.10.7"
  }
 },
 "nbformat": 4,
 "nbformat_minor": 5
}
