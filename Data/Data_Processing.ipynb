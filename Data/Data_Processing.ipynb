{
 "cells": [
  {
   "cell_type": "code",
   "execution_count": 11,
   "id": "7d8fa1a2",
   "metadata": {},
   "outputs": [
    {
     "name": "stdout",
     "output_type": "stream",
     "text": [
      "data :  [[1 2]\n",
      " [3 4]\n",
      " [5 6]]\n",
      "mean_val :  [3. 4.]\n",
      "std :  [1.63299316 1.63299316]\n",
      "final_val :  [[-2. -2.]\n",
      " [ 0.  0.]\n",
      " [ 2.  2.]]\n",
      "[0. 0.]\n",
      "[-2.  0.  2.]\n",
      "final :  [[-1.22474487 -1.22474487]\n",
      " [ 0.          0.        ]\n",
      " [ 1.22474487  1.22474487]]\n",
      "[0. 0.]\n",
      "[1.63299316 1.63299316]\n"
     ]
    }
   ],
   "source": [
    "import numpy as np\n",
    "from sklearn import preprocessing\n",
    "\n",
    "data = np.array([[1,2],[3,4],[5,6]])\n",
    "# data = np.array([[3,5],[7,4],[2,4]])\n",
    "print(\"data : \",data)\n",
    "\n",
    "# Mean Avreage\n",
    "mean_val = data.mean(axis=0)\n",
    "print(\"mean_val : \",mean_val)\n",
    "\n",
    "# Standard Deviation\n",
    "std = data.std(axis=0)\n",
    "print(\"std : \",std)\n",
    "\n",
    "# Mean Removal : it mean mean=0, std=1\n",
    "final_val = data-mean_val\n",
    "print(\"final_val : \",final_val)\n",
    "print(final_val.mean(axis=0))\n",
    "print(final_val.mean(axis=1))\n",
    "\n",
    "# Scale()\n",
    "\n",
    "final = preprocessing.scale(data)\n",
    "print(\"final : \",final)\n",
    "print(final.mean(axis=0))\n",
    "print(final_val.std(axis=0))"
   ]
  },
  {
   "cell_type": "code",
   "execution_count": 4,
   "id": "95507bb5",
   "metadata": {},
   "outputs": [
    {
     "name": "stdout",
     "output_type": "stream",
     "text": [
      "    year  person   male  female\n",
      "0   2005   91.55  51.58   70.51\n",
      "1   1993   33.27  64.53   38.07\n",
      "2   2006   43.29  24.86   75.66\n",
      "3   2013   72.82  90.72   42.20\n",
      "4   2000   22.14  50.22   97.66\n",
      "5   2005   65.24  83.59   47.42\n",
      "6   1992   40.62  25.33   32.84\n",
      "7   1993   90.74  38.69   89.02\n",
      "8   1992   49.18  77.74   56.29\n",
      "9   1993   96.80  42.65   72.85\n",
      "10  2001   66.50  58.93   80.53\n",
      "11  2005   79.84  88.38   17.70\n",
      "12  1986   29.84  68.19   31.66\n",
      "13  1994   95.32  96.26   48.06\n",
      "14  1990    9.01  88.56   46.53\n",
      "15  2011   13.10  82.27   79.22\n",
      "16  2011   95.94  31.49   80.63\n",
      "17  1993   68.61  65.56   90.67\n",
      "18  2002   63.29  24.51   56.09\n",
      "19  2011   46.02  85.18   43.39\n",
      "20  2000   15.57  27.89   10.62\n",
      "21  2004   79.50  59.22   99.42\n",
      "22  2007   50.56  72.77   30.62\n",
      "23  2005   46.38  15.34    6.57\n",
      "24  1993   86.48  29.34   99.99\n",
      "25  2007   64.87  55.95   91.14\n",
      "26  1993   92.29  29.30   83.03\n",
      "27  1999   55.89  11.75   41.72\n",
      "28  2012   82.28  59.92   29.25\n",
      "29  2000   40.49  59.06   58.62\n",
      "30  2010   67.34  47.49   47.70\n",
      "31  1995    2.80  19.93   70.37\n",
      "32  1984   50.73  93.44   31.62\n",
      "33  1989   11.10  10.13   88.29\n",
      "34  2001   87.54  69.99   36.32\n",
      "35  1966    3.62  86.29    2.04\n",
      "36  2011   60.81  38.87   31.99\n",
      "37  1996   56.74  38.59   66.93\n",
      "38  2010   61.87  26.50   80.81\n",
      "39  1963   45.78  87.39   23.78\n",
      "40  2012   98.34  89.27    6.52\n",
      "41  1999   66.24   2.08   57.30\n",
      "42  1998   85.75  83.93   70.94\n",
      "43  1994   16.40  45.91   80.71\n",
      "44  1995   42.94  95.45   94.51\n",
      "45  2012   14.94  65.27   19.18\n",
      "46  1998   43.34  57.28   10.27\n",
      "47  2000   30.65  32.04   81.95\n",
      "48  2008   42.93  85.32   18.69\n",
      "49  2006   82.55  57.26   98.35\n",
      "person    55.1968\n",
      "male      55.8442\n",
      "female    55.3250\n",
      "dtype: float64\n",
      "person    27.773831\n",
      "male      26.582729\n",
      "female    29.144044\n",
      "dtype: float64\n",
      "[-1.24344979e-16 -2.97539771e-16 -8.43769499e-17]\n",
      "[1. 1. 1.]\n"
     ]
    }
   ],
   "source": [
    "import pandas as pd\n",
    "from sklearn import preprocessing\n",
    "\n",
    "df = pd.read_csv(\"data.csv\")\n",
    "print(df)\n",
    "\n",
    "data = df[['person','male','female']]\n",
    "print(data.mean(axis=0))\n",
    "print(data.std(axis=0))\n",
    "\n",
    "mean_removed_data = preprocessing.scale(data)\n",
    "print(mean_removed_data.mean(axis=0))\n",
    "print(mean_removed_data.std(axis=0))"
   ]
  },
  {
   "cell_type": "code",
   "execution_count": 9,
   "id": "dee49d9a",
   "metadata": {},
   "outputs": [
    {
     "name": "stdout",
     "output_type": "stream",
     "text": [
      "[[0.84       0.92893029 0.5255893  0.69903012]\n",
      " [0.6        0.31892401 0.66309195 0.36784074]\n",
      " [0.86       0.42380155 0.24187726 0.75160796]\n",
      " [1.         0.73288675 0.94117647 0.4100051 ]\n",
      " [0.74       0.2024283  0.51114886 0.97621235]\n",
      " [0.84       0.65354825 0.86547038 0.4632976 ]\n",
      " [0.58       0.39585514 0.2468677  0.31444615]\n",
      " [0.6        0.92045217 0.38872372 0.88800408]\n",
      " [0.58       0.48545112 0.80335528 0.55385401]\n",
      " [0.6        0.9838811  0.43077086 0.72291986]\n",
      " [0.76       0.66673645 0.60363134 0.80132721]\n",
      " [0.84       0.80636383 0.91633043 0.15987749]\n",
      " [0.46       0.28302282 0.70195371 0.30239918]\n",
      " [0.62       0.9683902  1.         0.46983155]\n",
      " [0.54       0.06499895 0.91824166 0.45421133]\n",
      " [0.96       0.10780825 0.85145466 0.78795304]\n",
      " [0.96       0.97487963 0.31227437 0.80234814]\n",
      " [0.6        0.68882144 0.67402846 0.90484941]\n",
      " [0.78       0.63313795 0.23816097 0.55181215]\n",
      " [0.96       0.45237597 0.88235294 0.42215416]\n",
      " [0.74       0.13366129 0.27404969 0.08759571]\n",
      " [0.82       0.80280511 0.60671055 0.9941807 ]\n",
      " [0.88       0.49989533 0.75058399 0.29178152]\n",
      " [0.84       0.45614402 0.14079422 0.04624809]\n",
      " [0.6        0.87586351 0.28944574 1.        ]\n",
      " [0.88       0.64967553 0.57198981 0.90964778]\n",
      " [0.6        0.93667574 0.28902102 0.82685043]\n",
      " [0.72       0.55568348 0.10267573 0.40510465]\n",
      " [0.98       0.83190287 0.61414313 0.27779479]\n",
      " [0.74       0.39449445 0.60501168 0.57764165]\n",
      " [0.94       0.67552857 0.48216182 0.4661562 ]\n",
      " [0.64       0.         0.18953069 0.69760082]\n",
      " [0.42       0.50167469 0.97005734 0.30199081]\n",
      " [0.52       0.08687461 0.08547462 0.8805513 ]\n",
      " [0.76       0.88695834 0.72106604 0.34997448]\n",
      " [0.06       0.00858279 0.89413888 0.        ]\n",
      " [0.96       0.60718024 0.39063495 0.30576825]\n",
      " [0.66       0.56458028 0.38766192 0.66248086]\n",
      " [0.94       0.61827507 0.25929072 0.80418581]\n",
      " [0.         0.44986393 0.90581865 0.22194997]\n",
      " [0.98       1.         0.92578042 0.04573762]\n",
      " [0.72       0.66401507 0.         0.56416539]\n",
      " [0.7        0.86822273 0.86908048 0.70342011]\n",
      " [0.62       0.14234875 0.46538543 0.80316488]\n",
      " [0.64       0.42013816 0.99139945 0.94405309]\n",
      " [0.98       0.1270672  0.67094925 0.17498724]\n",
      " [0.7        0.42432489 0.5861117  0.08402246]\n",
      " [0.74       0.29150094 0.31811425 0.8158244 ]\n",
      " [0.9        0.42003349 0.88383946 0.16998469]\n",
      " [0.86       0.83472891 0.58589934 0.98325676]]\n"
     ]
    }
   ],
   "source": [
    "import numpy as np\n",
    "import pandas as pd\n",
    "# data = np.array([[1,2],[3,4],[5,6]])\n",
    "\n",
    "data = pd.read_csv(\"data.csv\")\n",
    "\n",
    "# Define A Scaller Model for Scalling the data\n",
    "scaller_model = preprocessing.MinMaxScaler()\n",
    "\n",
    "# Apply data to the model : fit\n",
    "op1 = scaller_model.fit(data)\n",
    "\n",
    "#let the Model transfer the data according to Requirnment : transform\n",
    "op2 = op1.transform(data)\n",
    "\n",
    "#print Result\n",
    "print(op2)"
   ]
  },
  {
   "cell_type": "code",
   "execution_count": 10,
   "id": "7ec71426",
   "metadata": {},
   "outputs": [
    {
     "name": "stdout",
     "output_type": "stream",
     "text": [
      "[[0.84       0.92893029 0.5255893  0.69903012]\n",
      " [0.6        0.31892401 0.66309195 0.36784074]\n",
      " [0.86       0.42380155 0.24187726 0.75160796]\n",
      " [1.         0.73288675 0.94117647 0.4100051 ]\n",
      " [0.74       0.2024283  0.51114886 0.97621235]\n",
      " [0.84       0.65354825 0.86547038 0.4632976 ]\n",
      " [0.58       0.39585514 0.2468677  0.31444615]\n",
      " [0.6        0.92045217 0.38872372 0.88800408]\n",
      " [0.58       0.48545112 0.80335528 0.55385401]\n",
      " [0.6        0.9838811  0.43077086 0.72291986]\n",
      " [0.76       0.66673645 0.60363134 0.80132721]\n",
      " [0.84       0.80636383 0.91633043 0.15987749]\n",
      " [0.46       0.28302282 0.70195371 0.30239918]\n",
      " [0.62       0.9683902  1.         0.46983155]\n",
      " [0.54       0.06499895 0.91824166 0.45421133]\n",
      " [0.96       0.10780825 0.85145466 0.78795304]\n",
      " [0.96       0.97487963 0.31227437 0.80234814]\n",
      " [0.6        0.68882144 0.67402846 0.90484941]\n",
      " [0.78       0.63313795 0.23816097 0.55181215]\n",
      " [0.96       0.45237597 0.88235294 0.42215416]\n",
      " [0.74       0.13366129 0.27404969 0.08759571]\n",
      " [0.82       0.80280511 0.60671055 0.9941807 ]\n",
      " [0.88       0.49989533 0.75058399 0.29178152]\n",
      " [0.84       0.45614402 0.14079422 0.04624809]\n",
      " [0.6        0.87586351 0.28944574 1.        ]\n",
      " [0.88       0.64967553 0.57198981 0.90964778]\n",
      " [0.6        0.93667574 0.28902102 0.82685043]\n",
      " [0.72       0.55568348 0.10267573 0.40510465]\n",
      " [0.98       0.83190287 0.61414313 0.27779479]\n",
      " [0.74       0.39449445 0.60501168 0.57764165]\n",
      " [0.94       0.67552857 0.48216182 0.4661562 ]\n",
      " [0.64       0.         0.18953069 0.69760082]\n",
      " [0.42       0.50167469 0.97005734 0.30199081]\n",
      " [0.52       0.08687461 0.08547462 0.8805513 ]\n",
      " [0.76       0.88695834 0.72106604 0.34997448]\n",
      " [0.06       0.00858279 0.89413888 0.        ]\n",
      " [0.96       0.60718024 0.39063495 0.30576825]\n",
      " [0.66       0.56458028 0.38766192 0.66248086]\n",
      " [0.94       0.61827507 0.25929072 0.80418581]\n",
      " [0.         0.44986393 0.90581865 0.22194997]\n",
      " [0.98       1.         0.92578042 0.04573762]\n",
      " [0.72       0.66401507 0.         0.56416539]\n",
      " [0.7        0.86822273 0.86908048 0.70342011]\n",
      " [0.62       0.14234875 0.46538543 0.80316488]\n",
      " [0.64       0.42013816 0.99139945 0.94405309]\n",
      " [0.98       0.1270672  0.67094925 0.17498724]\n",
      " [0.7        0.42432489 0.5861117  0.08402246]\n",
      " [0.74       0.29150094 0.31811425 0.8158244 ]\n",
      " [0.9        0.42003349 0.88383946 0.16998469]\n",
      " [0.86       0.83472891 0.58589934 0.98325676]]\n"
     ]
    }
   ],
   "source": [
    "import numpy as np\n",
    "# data = np.array([[1,2],[3,4],[5,6]])\n",
    "\n",
    "data = pd.read_csv(\"data.csv\")\n",
    "\n",
    "#define a scaller model for scalling the data\n",
    "scaller_model = preprocessing.MinMaxScaler()\n",
    "\n",
    "#apply the data to model and let the model transfer the data accotdingly\n",
    "op = scaller_model.fit_transform(data)\n",
    "print(op)"
   ]
  },
  {
   "cell_type": "code",
   "execution_count": 13,
   "id": "6df98147",
   "metadata": {},
   "outputs": [
    {
     "name": "stdout",
     "output_type": "stream",
     "text": [
      "[[0.90370678 0.04126402 0.02324848 0.03178073]\n",
      " [0.93617741 0.01562801 0.03031186 0.01788273]\n",
      " [0.93310572 0.02013666 0.01156381 0.03519381]\n",
      " [0.90727169 0.03282043 0.04088807 0.0190198 ]\n",
      " [0.92165049 0.01020267 0.02314264 0.04500419]\n",
      " [0.91084611 0.02963771 0.03797388 0.02154231]\n",
      " [0.95274992 0.01942806 0.01211504 0.01570698]\n",
      " [0.90121866 0.0410319  0.01749531 0.04025413]\n",
      " [0.91577365 0.02260931 0.03573908 0.02587796]\n",
      " [0.90373192 0.04389425 0.01933977 0.03303405]\n",
      " [0.90667706 0.03013195 0.02670189 0.03648911]\n",
      " [0.91514067 0.03644131 0.04033922 0.0080788 ]\n",
      " [0.93870085 0.01410415 0.03223062 0.01496439]\n",
      " [0.89271324 0.04267474 0.04309557 0.02151645]\n",
      " [0.93247739 0.00422192 0.04149759 0.0218031 ]\n",
      " [0.92011768 0.0059938  0.03764201 0.03624651]\n",
      " [0.90623958 0.04323452 0.01419069 0.0363352 ]\n",
      " [0.89862208 0.0309355  0.02956029 0.04088212]\n",
      " [0.93294624 0.02949359 0.01142183 0.02613834]\n",
      " [0.92011768 0.0210561  0.03897346 0.01985276]\n",
      " [0.97367191 0.00758004 0.01357785 0.0051702 ]\n",
      " [0.89378897 0.0354572  0.02641227 0.04434157]\n",
      " [0.92875819 0.02339712 0.033675   0.01416969]\n",
      " [0.96706201 0.02237024 0.00739887 0.00316888]\n",
      " [0.90229581 0.0391523  0.01328317 0.04526872]\n",
      " [0.90447777 0.02923442 0.02521451 0.0410733 ]\n",
      " [0.90689018 0.04199543 0.01333261 0.03778178]\n",
      " [0.9481303  0.02650876 0.00557305 0.01978789]\n",
      " [0.92147748 0.03768348 0.02744281 0.01339623]\n",
      " [0.92671106 0.01876127 0.02736578 0.0271619 ]\n",
      " [0.9251886  0.03099612 0.02185931 0.02195597]\n",
      " [0.95541401 0.00134093 0.00954456 0.03370049]\n",
      " [0.91860783 0.02348839 0.04326347 0.01464031]\n",
      " [0.94781084 0.00528944 0.00482721 0.04207251]\n",
      " [0.91167961 0.03988427 0.03188828 0.01654783]\n",
      " [0.95531961 0.00175903 0.04193008 0.00099128]\n",
      " [0.93854863 0.02838048 0.01814092 0.01492997]\n",
      " [0.92481907 0.0262897  0.01788014 0.03101109]\n",
      " [0.92236529 0.02839141 0.01216054 0.03708276]\n",
      " [0.92596524 0.02159485 0.04122267 0.01121725]\n",
      " [0.91200428 0.0445758  0.04046452 0.0029554 ]\n",
      " [0.94087413 0.03117734 0.000979   0.02696953]\n",
      " [0.89251414 0.03830485 0.03749185 0.03168917]\n",
      " [0.93307503 0.00767424 0.02148319 0.03776755]\n",
      " [0.89546209 0.01927376 0.04284304 0.04242111]\n",
      " [0.95292674 0.00707591 0.03091328 0.00908406]\n",
      " [0.94741784 0.0205511  0.02716121 0.00486986]\n",
      " [0.93255745 0.01429144 0.01493957 0.03821154]\n",
      " [0.93181249 0.01992167 0.03959275 0.0086731 ]\n",
      " [0.89387566 0.03678436 0.02551511 0.04382486]]\n"
     ]
    }
   ],
   "source": [
    "import numpy as np\n",
    "# data = np.array([[1,2],[3,4],[5,6]])\n",
    "data = pd.read_csv(\"data.csv\")\n",
    "\n",
    "op = preprocessing.normalize(data,norm=\"l1\")\n",
    "print(op)"
   ]
  },
  {
   "cell_type": "markdown",
   "id": "896b6fc7",
   "metadata": {},
   "source": [
    "# Binarization"
   ]
  },
  {
   "cell_type": "code",
   "execution_count": 12,
   "id": "a956ac6e",
   "metadata": {},
   "outputs": [
    {
     "name": "stdout",
     "output_type": "stream",
     "text": [
      "[[3 5]\n",
      " [7 4]\n",
      " [2 4]]\n",
      "[[0 0]\n",
      " [1 0]\n",
      " [0 0]]\n"
     ]
    }
   ],
   "source": [
    "import numpy as np\n",
    "from sklearn import preprocessing\n",
    "data  = np.array([[3,5],[7,4],[2,4]])\n",
    "binarized_data = preprocessing.Binarizer(threshold=5)\n",
    "op = binarized_data.fit_transform(data)\n",
    "print(data)\n",
    "print(op)"
   ]
  },
  {
   "cell_type": "markdown",
   "id": "fba75f73",
   "metadata": {},
   "source": [
    "# Label Encoding"
   ]
  },
  {
   "cell_type": "code",
   "execution_count": 18,
   "id": "d1d8c1a9",
   "metadata": {},
   "outputs": [
    {
     "name": "stdout",
     "output_type": "stream",
     "text": [
      "['apple', 'cherry', 'grapes', 'mango', 'apple', 'cherry', 'mango']\n",
      "[0 1 2 3 0 1 3]\n",
      "[0 1]\n",
      "['apple' 'cherry']\n"
     ]
    }
   ],
   "source": [
    "data = [\"apple\",\"cherry\",\"grapes\", \"mango\",\"apple\",\"cherry\", \"mango\"]\n",
    "labeled_data = preprocessing.LabelEncoder()\n",
    "op = lebeled_data.fit_transform(data)\n",
    "print(data)\n",
    "print(op)\n",
    "\n",
    "# testing the model\n",
    "test_data = ['apple','cherry']\n",
    "test_op = labeled_data.fit_transform(test_data)\n",
    "print(test_op)\n",
    "\n",
    "# inverse testing\n",
    "test_data = [0,1]\n",
    "test_op = labeled_data.inverse_transform(test_data)\n",
    "print(test_op)"
   ]
  },
  {
   "cell_type": "code",
   "execution_count": 3,
   "id": "881de6fc",
   "metadata": {},
   "outputs": [
    {
     "name": "stdout",
     "output_type": "stream",
     "text": [
      "[[1 2]\n",
      " [3 4]\n",
      " [5 6]]\n"
     ]
    }
   ],
   "source": [
    "import numpy as np\n",
    "data = np.array([[1,2],[3,4],[5,6]])\n",
    "# data = pd.read_csv(\"data.csv\")\n",
    "print(data)"
   ]
  },
  {
   "cell_type": "markdown",
   "id": "11c59903",
   "metadata": {},
   "source": [
    "# Refression "
   ]
  },
  {
   "cell_type": "code",
   "execution_count": 5,
   "id": "13fe7b88",
   "metadata": {},
   "outputs": [
    {
     "name": "stdout",
     "output_type": "stream",
     "text": [
      "Mean Squared Error: 1.0434333815695165\n",
      "R^2 Score: 0.7424452332071367\n"
     ]
    },
    {
     "data": {
      "image/png": "[encoded data removed]",
      "text/plain": [
       "<Figure size 432x288 with 1 Axes>"
      ]
     },
     "metadata": {
      "needs_background": "light"
     },
     "output_type": "display_data"
    }
   ],
   "source": [
    "import numpy as np\n",
    "import pandas as pd\n",
    "import matplotlib.pyplot as plt\n",
    "from sklearn.model_selection import train_test_split\n",
    "from sklearn.linear_model import LinearRegression\n",
    "from sklearn.metrics import mean_squared_error, r2_score\n",
    "\n",
    "# Sample data generation\n",
    "# Let's create a simple dataset\n",
    "np.random.seed(0)\n",
    "X = 2 * np.random.rand(100, 1)\n",
    "y = 4 + 3 * X + np.random.randn(100, 1)\n",
    "\n",
    "# Convert to DataFrame for better readability\n",
    "data = pd.DataFrame(data=np.hstack((X, y)), columns=['Feature', 'Target'])\n",
    "\n",
    "# Splitting the data into training and test sets\n",
    "X_train, X_test, y_train, y_test = train_test_split(X, y, test_size=0.2, random_state=0)\n",
    "\n",
    "# Create and train the model\n",
    "model = LinearRegression()\n",
    "model.fit(X_train, y_train)\n",
    "\n",
    "# Make predictions\n",
    "y_pred = model.predict(X_test)\n",
    "\n",
    "# Evaluate the model\n",
    "mse = mean_squared_error(y_test, y_pred)\n",
    "r2 = r2_score(y_test, y_pred)\n",
    "\n",
    "print(f\"Mean Squared Error: {mse}\")\n",
    "print(f\"R^2 Score: {r2}\")\n",
    "\n",
    "# Plotting the results\n",
    "plt.scatter(X_test, y_test, color='black', label='Test Data')\n",
    "plt.plot(X_test, y_pred, color='blue', linewidth=3, label='Regression Line')\n",
    "plt.xlabel('Feature')\n",
    "plt.ylabel('Target')\n",
    "plt.title('Linear Regression')\n",
    "plt.legend()\n",
    "plt.show()\n"
   ]
  },
  {
   "cell_type": "code",
   "execution_count": 16,
   "id": "548d3bb8",
   "metadata": {},
   "outputs": [
    {
     "data": {
      "image/png": "[encoded data removed]",
      "text/plain": [
       "<Figure size 432x288 with 1 Axes>"
      ]
     },
     "metadata": {
      "needs_background": "light"
     },
     "output_type": "display_data"
    }
   ],
   "source": [
    "import pandas as pd\n",
    "import matplotlib.pyplot as plt\n",
    "\n",
    "rec = pd.read_csv(\"salary.csv\")\n",
    "# print(rec)\n",
    "\n",
    "x = np.array(data.Year).reshape(-1,1)\n",
    "y = np.array(data.Salary).reshape(-1,1)\n",
    "\n",
    "liner_regression_model = linear_model.LinearRegression()\n",
    "\n",
    "liner_regression_model.fit(x,y)\n",
    "\n",
    "# xtest = np.array([5.0,1.0,3.5,1.1]).reshape(-1,1)\n",
    "xtest = x\n",
    "ytest_result = liner_regression_model.predict(xtest)\n",
    "\n",
    "# print(xtest)\n",
    "# print(y)\n",
    "# print(ytest_result)\n",
    "\n",
    "plt.scatter(x,y,color=\"red\")\n",
    "plt.scatter(xtest,ytest_result,color=\"teal\")\n",
    "plt.xlabel(\"xtest\")\n",
    "plt.ylabel(\"ytest\")\n",
    "plt.show()"
   ]
  },
  {
   "cell_type": "code",
   "execution_count": null,
   "id": "09516f2d",
   "metadata": {},
   "outputs": [],
   "source": []
  }
 ],
 "metadata": {
  "kernelspec": {
   "display_name": "Python 3 (ipykernel)",
   "language": "python",
   "name": "python3"
  },
  "language_info": {
   "codemirror_mode": {
    "name": "ipython",
    "version": 3
   },
   "file_extension": ".py",
   "mimetype": "text/x-python",
   "name": "python",
   "nbconvert_exporter": "python",
   "pygments_lexer": "ipython3",
   "version": "3.9.6"
  }
 },
 "nbformat": 4,
 "nbformat_minor": 5
}
