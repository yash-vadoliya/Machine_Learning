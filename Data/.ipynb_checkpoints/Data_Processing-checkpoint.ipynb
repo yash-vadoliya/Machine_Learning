{
 "cells": [
  {
   "cell_type": "code",
   "execution_count": 11,
   "id": "7d8fa1a2",
   "metadata": {},
   "outputs": [
    {
     "name": "stdout",
     "output_type": "stream",
     "text": [
      "data :  [[1 2]\n",
      " [3 4]\n",
      " [5 6]]\n",
      "mean_val :  [3. 4.]\n",
      "std :  [1.63299316 1.63299316]\n",
      "final_val :  [[-2. -2.]\n",
      " [ 0.  0.]\n",
      " [ 2.  2.]]\n",
      "[0. 0.]\n",
      "[-2.  0.  2.]\n",
      "final :  [[-1.22474487 -1.22474487]\n",
      " [ 0.          0.        ]\n",
      " [ 1.22474487  1.22474487]]\n",
      "[0. 0.]\n",
      "[1.63299316 1.63299316]\n"
     ]
    }
   ],
   "source": [
    "import numpy as np\n",
    "from sklearn import preprocessing\n",
    "\n",
    "data = np.array([[1,2],[3,4],[5,6]])\n",
    "# data = np.array([[3,5],[7,4],[2,4]])\n",
    "print(\"data : \",data)\n",
    "\n",
    "# Mean Avreage\n",
    "mean_val = data.mean(axis=0)\n",
    "print(\"mean_val : \",mean_val)\n",
    "\n",
    "# Standard Deviation\n",
    "std = data.std(axis=0)\n",
    "print(\"std : \",std)\n",
    "\n",
    "# Mean Removal : it mean mean=0, std=1\n",
    "final_val = data-mean_val\n",
    "print(\"final_val : \",final_val)\n",
    "print(final_val.mean(axis=0))\n",
    "print(final_val.mean(axis=1))\n",
    "\n",
    "# Scale()\n",
    "\n",
    "final = preprocessing.scale(data)\n",
    "print(\"final : \",final)\n",
    "print(final.mean(axis=0))\n",
    "print(final_val.std(axis=0))"
   ]
  },
  {
   "cell_type": "code",
   "execution_count": 4,
   "id": "95507bb5",
   "metadata": {},
   "outputs": [
    {
     "name": "stdout",
     "output_type": "stream",
     "text": [
      "    year  person   male  female\n",
      "0   2005   91.55  51.58   70.51\n",
      "1   1993   33.27  64.53   38.07\n",
      "2   2006   43.29  24.86   75.66\n",
      "3   2013   72.82  90.72   42.20\n",
      "4   2000   22.14  50.22   97.66\n",
      "5   2005   65.24  83.59   47.42\n",
      "6   1992   40.62  25.33   32.84\n",
      "7   1993   90.74  38.69   89.02\n",
      "8   1992   49.18  77.74   56.29\n",
      "9   1993   96.80  42.65   72.85\n",
      "10  2001   66.50  58.93   80.53\n",
      "11  2005   79.84  88.38   17.70\n",
      "12  1986   29.84  68.19   31.66\n",
      "13  1994   95.32  96.26   48.06\n",
      "14  1990    9.01  88.56   46.53\n",
      "15  2011   13.10  82.27   79.22\n",
      "16  2011   95.94  31.49   80.63\n",
      "17  1993   68.61  65.56   90.67\n",
      "18  2002   63.29  24.51   56.09\n",
      "19  2011   46.02  85.18   43.39\n",
      "20  2000   15.57  27.89   10.62\n",
      "21  2004   79.50  59.22   99.42\n",
      "22  2007   50.56  72.77   30.62\n",
      "23  2005   46.38  15.34    6.57\n",
      "24  1993   86.48  29.34   99.99\n",
      "25  2007   64.87  55.95   91.14\n",
      "26  1993   92.29  29.30   83.03\n",
      "27  1999   55.89  11.75   41.72\n",
      "28  2012   82.28  59.92   29.25\n",
      "29  2000   40.49  59.06   58.62\n",
      "30  2010   67.34  47.49   47.70\n",
      "31  1995    2.80  19.93   70.37\n",
      "32  1984   50.73  93.44   31.62\n",
      "33  1989   11.10  10.13   88.29\n",
      "34  2001   87.54  69.99   36.32\n",
      "35  1966    3.62  86.29    2.04\n",
      "36  2011   60.81  38.87   31.99\n",
      "37  1996   56.74  38.59   66.93\n",
      "38  2010   61.87  26.50   80.81\n",
      "39  1963   45.78  87.39   23.78\n",
      "40  2012   98.34  89.27    6.52\n",
      "41  1999   66.24   2.08   57.30\n",
      "42  1998   85.75  83.93   70.94\n",
      "43  1994   16.40  45.91   80.71\n",
      "44  1995   42.94  95.45   94.51\n",
      "45  2012   14.94  65.27   19.18\n",
      "46  1998   43.34  57.28   10.27\n",
      "47  2000   30.65  32.04   81.95\n",
      "48  2008   42.93  85.32   18.69\n",
      "49  2006   82.55  57.26   98.35\n",
      "person    55.1968\n",
      "male      55.8442\n",
      "female    55.3250\n",
      "dtype: float64\n",
      "person    27.773831\n",
      "male      26.582729\n",
      "female    29.144044\n",
      "dtype: float64\n",
      "[-1.24344979e-16 -2.97539771e-16 -8.43769499e-17]\n",
      "[1. 1. 1.]\n"
     ]
    }
   ],
   "source": [
    "import pandas as pd\n",
    "from sklearn import preprocessing\n",
    "\n",
    "df = pd.read_csv(\"data.csv\")\n",
    "print(df)\n",
    "\n",
    "data = df[['person','male','female']]\n",
    "print(data.mean(axis=0))\n",
    "print(data.std(axis=0))\n",
    "\n",
    "mean_removed_data = preprocessing.scale(data)\n",
    "print(mean_removed_data.mean(axis=0))\n",
    "print(mean_removed_data.std(axis=0))"
   ]
  },
  {
   "cell_type": "code",
   "execution_count": 7,
   "id": "803cafa3",
   "metadata": {},
   "outputs": [
    {
     "name": "stdout",
     "output_type": "stream",
     "text": [
      "[[0.  0. ]\n",
      " [0.5 0.5]\n",
      " [1.  1. ]]\n"
     ]
    }
   ],
   "source": [
    "import numpy as np\n",
    "import pandas as pd\n",
    "# data = np.array([[1,2],[3,4],[5,6]])\n",
    "\n",
    "data = pd.read_csv(\"data.csv\")\n",
    "\n",
    "# Define A Scaller Model for Scalling the data\n",
    "scaller_model = preprocessing.MinMaxScaler()\n",
    "\n",
    "# Apply data to the model : fit\n",
    "op1 = scaller_model.fit(data)\n",
    "\n",
    "#let the Model transfer the data according to Requirnment : transform\n",
    "op2 = op1.transform(data)\n",
    "\n",
    "#print Result\n",
    "print(op2)"
   ]
  },
  {
   "cell_type": "code",
   "execution_count": 8,
   "id": "6dec846d",
   "metadata": {},
   "outputs": [
    {
     "name": "stdout",
     "output_type": "stream",
     "text": [
      "[[0.  0. ]\n",
      " [0.5 0.5]\n",
      " [1.  1. ]]\n"
     ]
    }
   ],
   "source": [
    "import numpy as np\n",
    "data = np.array([[1,2],[3,4],[5,6]])\n",
    "\n",
    "#define a scaller model for scalling the data\n",
    "scaller_model = preprocessing.MinMaxScaler()\n",
    "\n",
    "#apply the data to model and let the model transfer the data accotdingly\n",
    "op = scaller_model.fit_transform(data)\n",
    "print(op)"
   ]
  },
  {
   "cell_type": "code",
   "execution_count": null,
   "id": "617ef6f0",
   "metadata": {},
   "outputs": [],
   "source": []
  }
 ],
 "metadata": {
  "kernelspec": {
   "display_name": "Python 3 (ipykernel)",
   "language": "python",
   "name": "python3"
  },
  "language_info": {
   "codemirror_mode": {
    "name": "ipython",
    "version": 3
   },
   "file_extension": ".py",
   "mimetype": "text/x-python",
   "name": "python",
   "nbconvert_exporter": "python",
   "pygments_lexer": "ipython3",
   "version": "3.9.6"
  }
 },
 "nbformat": 4,
 "nbformat_minor": 5
}
