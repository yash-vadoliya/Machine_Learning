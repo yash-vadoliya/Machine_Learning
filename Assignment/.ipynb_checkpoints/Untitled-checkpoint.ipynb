{
 "cells": [
  {
   "cell_type": "markdown",
   "id": "9d1009e1",
   "metadata": {},
   "source": [
    "# Task "
   ]
  },
  {
   "cell_type": "code",
   "execution_count": 2,
   "id": "cb8cf232",
   "metadata": {},
   "outputs": [
    {
     "name": "stdout",
     "output_type": "stream",
     "text": [
      "    id     name          city       contact                       stream  \\\n",
      "0    1  Kynthia       Knivsta  468 395 8086           Analyst Programmer   \n",
      "1    2   Waiter      Zhangtan  684 701 7306            Chemical Engineer   \n",
      "2    3  Branden         Daluo  910 772 1668       Senior Cost Accountant   \n",
      "3    4  Camella      Kudymkar  470 338 3404               Tax Accountant   \n",
      "4    5  Merrili        Russas  517 671 4838             Dental Hygienist   \n",
      "5    6    Haley     Borovichi  673 828 1741         Sales Representative   \n",
      "6    7  Eolanda  Galleh Manda  746 228 1049             Internal Auditor   \n",
      "7    8      Tam         Pijao  984 183 8257                VP Accounting   \n",
      "8    9    Biron         Eséka  620 946 9394              Media Manager I   \n",
      "9   10  Alexine           Ube  374 972 2953  Mechanical Systems Engineer   \n",
      "10  11    Dedie     Charlotte  704 957 3647                    Paralegal   \n",
      "11  12  Margery     Inanwatan  955 218 6870          Associate Professor   \n",
      "12  13  Matthew     Negreiros  790 481 6351       Administrative Officer   \n",
      "13  14   Andree       Cần Giờ  580 197 9146           Research Associate   \n",
      "14  15    Garey       Zhoukou  857 217 1390                Senior Editor   \n",
      "\n",
      "    mark1  mark2  mark3  mark4  \n",
      "0      43     25     62     65  \n",
      "1      24     74     17     31  \n",
      "2      81     12     40     59  \n",
      "3      15     87     52     87  \n",
      "4       9      8      7     46  \n",
      "5      79     64     88     21  \n",
      "6      43     45     24     38  \n",
      "7      73      2     94     86  \n",
      "8      97     96     53     77  \n",
      "9      95     49     49     32  \n",
      "10     21     46     55     81  \n",
      "11     12     82     74     41  \n",
      "12     47     91     31     44  \n",
      "13     79     47     24     43  \n",
      "14      3     54     49     40  \n",
      "   id     name          city       contact                  stream  mark1  \\\n",
      "0   1  Kynthia       Knivsta  468 395 8086      Analyst Programmer     43   \n",
      "1   2   Waiter      Zhangtan  684 701 7306       Chemical Engineer     24   \n",
      "2   3  Branden         Daluo  910 772 1668  Senior Cost Accountant     81   \n",
      "3   4  Camella      Kudymkar  470 338 3404          Tax Accountant     15   \n",
      "4   5  Merrili        Russas  517 671 4838        Dental Hygienist      9   \n",
      "5   6    Haley     Borovichi  673 828 1741    Sales Representative     79   \n",
      "6   7  Eolanda  Galleh Manda  746 228 1049        Internal Auditor     43   \n",
      "\n",
      "   mark2  mark3  mark4  \n",
      "0     25     62     65  \n",
      "1     74     17     31  \n",
      "2     12     40     59  \n",
      "3     87     52     87  \n",
      "4      8      7     46  \n",
      "5     64     88     21  \n",
      "6     45     24     38  \n"
     ]
    }
   ],
   "source": [
    "import pandas as pd\n",
    "\n",
    "df = pd.read_csv(\"new_data.csv\")\n",
    "\n",
    "print(df)"
   ]
  },
  {
   "cell_type": "code",
   "execution_count": 3,
   "id": "5debdaed",
   "metadata": {},
   "outputs": [
    {
     "name": "stdout",
     "output_type": "stream",
     "text": [
      "   id     name          city       contact                  stream  mark1  \\\n",
      "0   1  Kynthia       Knivsta  468 395 8086      Analyst Programmer     43   \n",
      "1   2   Waiter      Zhangtan  684 701 7306       Chemical Engineer     24   \n",
      "2   3  Branden         Daluo  910 772 1668  Senior Cost Accountant     81   \n",
      "3   4  Camella      Kudymkar  470 338 3404          Tax Accountant     15   \n",
      "4   5  Merrili        Russas  517 671 4838        Dental Hygienist      9   \n",
      "5   6    Haley     Borovichi  673 828 1741    Sales Representative     79   \n",
      "6   7  Eolanda  Galleh Manda  746 228 1049        Internal Auditor     43   \n",
      "\n",
      "   mark2  mark3  mark4  \n",
      "0     25     62     65  \n",
      "1     74     17     31  \n",
      "2     12     40     59  \n",
      "3     87     52     87  \n",
      "4      8      7     46  \n",
      "5     64     88     21  \n",
      "6     45     24     38  \n"
     ]
    }
   ],
   "source": [
    "# print first 7 records.\n",
    "print(df.head(7))"
   ]
  },
  {
   "cell_type": "code",
   "execution_count": 4,
   "id": "5cfd6218",
   "metadata": {},
   "outputs": [
    {
     "name": "stdout",
     "output_type": "stream",
     "text": [
      "Index(['id', 'name', 'city', 'contact', 'stream', 'mark1', 'mark2', 'mark3',\n",
      "       'mark4'],\n",
      "      dtype='object')\n"
     ]
    }
   ],
   "source": [
    "# Print column name\n",
    "print(df.columns)"
   ]
  },
  {
   "cell_type": "code",
   "execution_count": 5,
   "id": "ab9ce11a",
   "metadata": {},
   "outputs": [
    {
     "name": "stdout",
     "output_type": "stream",
     "text": [
      "              id      mark1      mark2      mark3      mark4\n",
      "count  15.000000  15.000000  15.000000  15.000000  15.000000\n",
      "mean    8.000000  48.066667  52.133333  47.933333  52.733333\n",
      "std     4.472136  33.309086  30.586801  25.109664  21.548837\n",
      "min     1.000000   3.000000   2.000000   7.000000  21.000000\n",
      "25%     4.500000  18.000000  35.000000  27.500000  39.000000\n",
      "50%     8.000000  43.000000  49.000000  49.000000  44.000000\n",
      "75%    11.500000  79.000000  78.000000  58.500000  71.000000\n",
      "max    15.000000  97.000000  96.000000  94.000000  87.000000\n"
     ]
    }
   ],
   "source": [
    "# print the statestical information of datafreame\n",
    "print(df.describe())"
   ]
  },
  {
   "cell_type": "code",
   "execution_count": 7,
   "id": "b2b51214",
   "metadata": {},
   "outputs": [
    {
     "name": "stdout",
     "output_type": "stream",
     "text": [
      "    id     name          city       contact                       stream  \\\n",
      "9   10  Alexine           Ube  374 972 2953  Mechanical Systems Engineer   \n",
      "13  14   Andree       Cần Giờ  580 197 9146           Research Associate   \n",
      "8    9    Biron         Eséka  620 946 9394              Media Manager I   \n",
      "2    3  Branden         Daluo  910 772 1668       Senior Cost Accountant   \n",
      "3    4  Camella      Kudymkar  470 338 3404               Tax Accountant   \n",
      "10  11    Dedie     Charlotte  704 957 3647                    Paralegal   \n",
      "6    7  Eolanda  Galleh Manda  746 228 1049             Internal Auditor   \n",
      "14  15    Garey       Zhoukou  857 217 1390                Senior Editor   \n",
      "5    6    Haley     Borovichi  673 828 1741         Sales Representative   \n",
      "0    1  Kynthia       Knivsta  468 395 8086           Analyst Programmer   \n",
      "11  12  Margery     Inanwatan  955 218 6870          Associate Professor   \n",
      "12  13  Matthew     Negreiros  790 481 6351       Administrative Officer   \n",
      "4    5  Merrili        Russas  517 671 4838             Dental Hygienist   \n",
      "7    8      Tam         Pijao  984 183 8257                VP Accounting   \n",
      "1    2   Waiter      Zhangtan  684 701 7306            Chemical Engineer   \n",
      "\n",
      "    mark1  mark2  mark3  mark4  \n",
      "9      95     49     49     32  \n",
      "13     79     47     24     43  \n",
      "8      97     96     53     77  \n",
      "2      81     12     40     59  \n",
      "3      15     87     52     87  \n",
      "10     21     46     55     81  \n",
      "6      43     45     24     38  \n",
      "14      3     54     49     40  \n",
      "5      79     64     88     21  \n",
      "0      43     25     62     65  \n",
      "11     12     82     74     41  \n",
      "12     47     91     31     44  \n",
      "4       9      8      7     46  \n",
      "7      73      2     94     86  \n",
      "1      24     74     17     31  \n"
     ]
    }
   ],
   "source": [
    "# print all the records of datafreame in alphabetical oredrs.\n",
    "sort_value = df.sort_values(by=\"name\")\n",
    "print(sort_value)"
   ]
  },
  {
   "cell_type": "code",
   "execution_count": 16,
   "id": "6b944961",
   "metadata": {},
   "outputs": [
    {
     "ename": "NameError",
     "evalue": "name 'false' is not defined",
     "output_type": "error",
     "traceback": [
      "\u001b[1;31m---------------------------------------------------------------------------\u001b[0m",
      "\u001b[1;31mNameError\u001b[0m                                 Traceback (most recent call last)",
      "\u001b[1;32m~\\AppData\\Local\\Temp/ipykernel_8584/3056928528.py\u001b[0m in \u001b[0;36m<module>\u001b[1;34m\u001b[0m\n\u001b[0;32m      2\u001b[0m \u001b[0mdf\u001b[0m\u001b[1;33m[\u001b[0m\u001b[1;34m'total'\u001b[0m\u001b[1;33m]\u001b[0m \u001b[1;33m=\u001b[0m \u001b[0mdf\u001b[0m\u001b[1;33m[\u001b[0m\u001b[1;34m'mark1'\u001b[0m\u001b[1;33m]\u001b[0m \u001b[1;33m+\u001b[0m \u001b[0mdf\u001b[0m\u001b[1;33m[\u001b[0m\u001b[1;34m'mark2'\u001b[0m\u001b[1;33m]\u001b[0m \u001b[1;33m+\u001b[0m \u001b[0mdf\u001b[0m\u001b[1;33m[\u001b[0m\u001b[1;34m'mark3'\u001b[0m\u001b[1;33m]\u001b[0m \u001b[1;33m+\u001b[0m \u001b[0mdf\u001b[0m\u001b[1;33m[\u001b[0m\u001b[1;34m'mark4'\u001b[0m\u001b[1;33m]\u001b[0m\u001b[1;33m\u001b[0m\u001b[1;33m\u001b[0m\u001b[0m\n\u001b[0;32m      3\u001b[0m \u001b[1;33m\u001b[0m\u001b[0m\n\u001b[1;32m----> 4\u001b[1;33m \u001b[0mfirst_mark\u001b[0m \u001b[1;33m=\u001b[0m \u001b[0mdf\u001b[0m\u001b[1;33m.\u001b[0m\u001b[0msort_values\u001b[0m\u001b[1;33m(\u001b[0m\u001b[0mby\u001b[0m\u001b[1;33m=\u001b[0m\u001b[1;34m'total'\u001b[0m\u001b[1;33m,\u001b[0m \u001b[0mascending\u001b[0m\u001b[1;33m=\u001b[0m\u001b[0mfalse\u001b[0m\u001b[1;33m)\u001b[0m\u001b[1;33m\u001b[0m\u001b[1;33m\u001b[0m\u001b[0m\n\u001b[0m\u001b[0;32m      5\u001b[0m \u001b[1;33m\u001b[0m\u001b[0m\n\u001b[0;32m      6\u001b[0m \u001b[0mprint\u001b[0m\u001b[1;33m(\u001b[0m\u001b[0mfirst_mark\u001b[0m\u001b[1;33m)\u001b[0m\u001b[1;33m\u001b[0m\u001b[1;33m\u001b[0m\u001b[0m\n",
      "\u001b[1;31mNameError\u001b[0m: name 'false' is not defined"
     ]
    }
   ],
   "source": [
    "# print all records of df in way that the students having higest marks diaplay the first.\n",
    "df['total'] = df['mark1'] + df['mark2'] + df['mark3'] + df['mark4']\n",
    "\n",
    "first_mark = df.sort_values(by='total', ascending=False)\n",
    "\n",
    "print(first_mark)"
   ]
  },
  {
   "cell_type": "code",
   "execution_count": null,
   "id": "34f3bcc2",
   "metadata": {},
   "outputs": [],
   "source": []
  }
 ],
 "metadata": {
  "kernelspec": {
   "display_name": "Python 3 (ipykernel)",
   "language": "python",
   "name": "python3"
  },
  "language_info": {
   "codemirror_mode": {
    "name": "ipython",
    "version": 3
   },
   "file_extension": ".py",
   "mimetype": "text/x-python",
   "name": "python",
   "nbconvert_exporter": "python",
   "pygments_lexer": "ipython3",
   "version": "3.9.6"
  }
 },
 "nbformat": 4,
 "nbformat_minor": 5
}
